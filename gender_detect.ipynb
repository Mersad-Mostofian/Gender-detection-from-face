{
 "cells": [
  {
   "cell_type": "code",
   "execution_count": 1,
   "metadata": {},
   "outputs": [],
   "source": [
    "import numpy as np\n",
    "import cv2 as cv\n",
    "import pandas as pd\n",
    "import matplotlib.pyplot as plt\n",
    "from tqdm import tqdm\n",
    "import os"
   ]
  },
  {
   "cell_type": "code",
   "execution_count": 2,
   "metadata": {},
   "outputs": [],
   "source": [
    "def df_maker(path,target_size=(64,64)):\n",
    "    images = []\n",
    "    sex = []\n",
    "    for folder in os.listdir(path):\n",
    "        print(f\"Processing {folder}'s Faces\")\n",
    "        folder_path = os.path.join(path, folder)\n",
    "        for file in tqdm(os.listdir(folder_path)):\n",
    "            if file.endswith('.jpg'):\n",
    "                img_path = os.path.join(folder_path,file)\n",
    "                img = cv.imread(img_path,cv.IMREAD_GRAYSCALE)\n",
    "                if img is not None:  \n",
    "                    img.resize((target_size))\n",
    "                    img = img.flatten()\n",
    "                    images.append(img)\n",
    "                    sex.append(folder)\n",
    "    return pd.DataFrame({\n",
    "        'image': images,\n",
    "        'sex': sex\n",
    "    })"
   ]
  },
  {
   "cell_type": "code",
   "execution_count": 3,
   "metadata": {},
   "outputs": [
    {
     "name": "stdout",
     "output_type": "stream",
     "text": [
      "Processing female's Faces\n"
     ]
    },
    {
     "name": "stderr",
     "output_type": "stream",
     "text": [
      "100%|██████████| 23243/23243 [01:15<00:00, 306.16it/s] \n"
     ]
    },
    {
     "name": "stdout",
     "output_type": "stream",
     "text": [
      "Processing male's Faces\n"
     ]
    },
    {
     "name": "stderr",
     "output_type": "stream",
     "text": [
      "100%|██████████| 23766/23766 [01:19<00:00, 300.32it/s]\n"
     ]
    },
    {
     "name": "stdout",
     "output_type": "stream",
     "text": [
      "Processing female's Faces\n"
     ]
    },
    {
     "name": "stderr",
     "output_type": "stream",
     "text": [
      "100%|██████████| 5841/5841 [00:22<00:00, 257.68it/s]\n"
     ]
    },
    {
     "name": "stdout",
     "output_type": "stream",
     "text": [
      "Processing male's Faces\n"
     ]
    },
    {
     "name": "stderr",
     "output_type": "stream",
     "text": [
      "100%|██████████| 5808/5808 [00:22<00:00, 261.21it/s]\n"
     ]
    }
   ],
   "source": [
    "df = df_maker('Training')\n",
    "df_2 = df_maker('Validation')\n"
   ]
  },
  {
   "cell_type": "code",
   "execution_count": 4,
   "metadata": {},
   "outputs": [
    {
     "data": {
      "text/html": [
       "<div>\n",
       "<style scoped>\n",
       "    .dataframe tbody tr th:only-of-type {\n",
       "        vertical-align: middle;\n",
       "    }\n",
       "\n",
       "    .dataframe tbody tr th {\n",
       "        vertical-align: top;\n",
       "    }\n",
       "\n",
       "    .dataframe thead th {\n",
       "        text-align: right;\n",
       "    }\n",
       "</style>\n",
       "<table border=\"1\" class=\"dataframe\">\n",
       "  <thead>\n",
       "    <tr style=\"text-align: right;\">\n",
       "      <th></th>\n",
       "      <th>image</th>\n",
       "      <th>sex</th>\n",
       "    </tr>\n",
       "  </thead>\n",
       "  <tbody>\n",
       "    <tr>\n",
       "      <th>0</th>\n",
       "      <td>[39, 44, 45, 38, 46, 49, 51, 48, 64, 74, 74, 8...</td>\n",
       "      <td>female</td>\n",
       "    </tr>\n",
       "    <tr>\n",
       "      <th>1</th>\n",
       "      <td>[12, 12, 9, 7, 9, 8, 5, 5, 8, 6, 6, 7, 9, 9, 8...</td>\n",
       "      <td>female</td>\n",
       "    </tr>\n",
       "    <tr>\n",
       "      <th>2</th>\n",
       "      <td>[60, 53, 34, 47, 34, 26, 54, 36, 38, 46, 45, 4...</td>\n",
       "      <td>female</td>\n",
       "    </tr>\n",
       "    <tr>\n",
       "      <th>3</th>\n",
       "      <td>[148, 150, 151, 152, 153, 157, 159, 159, 159, ...</td>\n",
       "      <td>female</td>\n",
       "    </tr>\n",
       "    <tr>\n",
       "      <th>4</th>\n",
       "      <td>[89, 98, 115, 130, 133, 146, 169, 188, 197, 19...</td>\n",
       "      <td>female</td>\n",
       "    </tr>\n",
       "    <tr>\n",
       "      <th>...</th>\n",
       "      <td>...</td>\n",
       "      <td>...</td>\n",
       "    </tr>\n",
       "    <tr>\n",
       "      <th>11644</th>\n",
       "      <td>[45, 41, 41, 41, 37, 31, 24, 25, 32, 25, 27, 4...</td>\n",
       "      <td>male</td>\n",
       "    </tr>\n",
       "    <tr>\n",
       "      <th>11645</th>\n",
       "      <td>[104, 117, 134, 145, 154, 153, 157, 153, 155, ...</td>\n",
       "      <td>male</td>\n",
       "    </tr>\n",
       "    <tr>\n",
       "      <th>11646</th>\n",
       "      <td>[151, 116, 94, 76, 87, 91, 108, 116, 127, 130,...</td>\n",
       "      <td>male</td>\n",
       "    </tr>\n",
       "    <tr>\n",
       "      <th>11647</th>\n",
       "      <td>[88, 73, 61, 51, 44, 52, 64, 64, 76, 75, 71, 6...</td>\n",
       "      <td>male</td>\n",
       "    </tr>\n",
       "    <tr>\n",
       "      <th>11648</th>\n",
       "      <td>[23, 46, 37, 16, 5, 6, 13, 12, 12, 19, 23, 18,...</td>\n",
       "      <td>male</td>\n",
       "    </tr>\n",
       "  </tbody>\n",
       "</table>\n",
       "<p>58658 rows × 2 columns</p>\n",
       "</div>"
      ],
      "text/plain": [
       "                                                   image     sex\n",
       "0      [39, 44, 45, 38, 46, 49, 51, 48, 64, 74, 74, 8...  female\n",
       "1      [12, 12, 9, 7, 9, 8, 5, 5, 8, 6, 6, 7, 9, 9, 8...  female\n",
       "2      [60, 53, 34, 47, 34, 26, 54, 36, 38, 46, 45, 4...  female\n",
       "3      [148, 150, 151, 152, 153, 157, 159, 159, 159, ...  female\n",
       "4      [89, 98, 115, 130, 133, 146, 169, 188, 197, 19...  female\n",
       "...                                                  ...     ...\n",
       "11644  [45, 41, 41, 41, 37, 31, 24, 25, 32, 25, 27, 4...    male\n",
       "11645  [104, 117, 134, 145, 154, 153, 157, 153, 155, ...    male\n",
       "11646  [151, 116, 94, 76, 87, 91, 108, 116, 127, 130,...    male\n",
       "11647  [88, 73, 61, 51, 44, 52, 64, 64, 76, 75, 71, 6...    male\n",
       "11648  [23, 46, 37, 16, 5, 6, 13, 12, 12, 19, 23, 18,...    male\n",
       "\n",
       "[58658 rows x 2 columns]"
      ]
     },
     "execution_count": 4,
     "metadata": {},
     "output_type": "execute_result"
    }
   ],
   "source": [
    "\n",
    "df = pd.concat([df,df_2])\n",
    "df"
   ]
  },
  {
   "cell_type": "code",
   "execution_count": 5,
   "metadata": {},
   "outputs": [],
   "source": [
    "class Logistic_Regression:\n",
    "    def __init__(self,learning_rate,epochs):\n",
    "        self.w = None\n",
    "        self.b = None\n",
    "        self.epoch = epochs\n",
    "        self.learning_rate = learning_rate\n",
    "        self.costs = []\n",
    "\n",
    "    def sigmoid(self,z):\n",
    "        return 1 / (1 + np.exp(-z))\n",
    "    \n",
    "    def cost(self,y,y_pred):\n",
    "        return -(1/len(y)) * np.sum((y * np.log(y_pred)) + ((1-y) * np.log(1-y_pred)))\n",
    "    \n",
    "    def initialize_parameters(self,features_count):\n",
    "        self.w = np.zeros(features_count)\n",
    "        self.b = 0\n",
    "\n",
    "    def update(self,X,y,y_pred):\n",
    "        n = X.shape[0]\n",
    "\n",
    "        dw = (1 / n) * np.dot((y_pred - y),X)\n",
    "        db = (1 / n) * np.sum(y_pred - y)\n",
    "\n",
    "        self.w -= self.learning_rate * dw\n",
    "        self.b -= self.learning_rate * db\n",
    "    \n",
    "    def fit(self,X,y):\n",
    "        features_count = X.shape[1]\n",
    "        self.initialize_parameters(features_count)\n",
    "        print(\"start training...\")\n",
    "        for i in tqdm(range(self.epoch)):\n",
    "            z = np.dot(X,self.w) + self.b\n",
    "            y_prediction = self.sigmoid(z)\n",
    "\n",
    "            cost = self.cost(y,y_prediction)\n",
    "            self.costs.append(cost)\n",
    "\n",
    "            self.update(X,y,y_prediction)\n",
    "\n",
    "    def predict(self,X):\n",
    "        z = np.dot(X,self.w) + self.b\n",
    "        y_prediction = self.sigmoid(z)\n",
    "        y_pred_class = [1 if pred > 0.5 else 0 for pred in y_prediction]\n",
    "        return np.array(y_pred_class)\n",
    "    \n",
    "    def plot_cost(self):\n",
    "        plt.plot(range(self.epoch), self.costs)\n",
    "        plt.xlabel(\"Number of Iterations\")\n",
    "        plt.ylabel(\"Cost (Log-Loss)\")\n",
    "        plt.title(\"Cost Reduction over Iterations\")\n",
    "        plt.show()\n",
    "    "
   ]
  },
  {
   "cell_type": "code",
   "execution_count": 6,
   "metadata": {},
   "outputs": [
    {
     "data": {
      "text/plain": [
       "array([[ 39,  44,  45, ..., 180, 179, 176],\n",
       "       [ 12,  12,   9, ..., 101, 111, 132],\n",
       "       [ 60,  53,  34, ..., 188, 187, 187],\n",
       "       ...,\n",
       "       [151, 116,  94, ..., 138, 102, 125],\n",
       "       [ 88,  73,  61, ..., 125, 101,  85],\n",
       "       [ 23,  46,  37, ..., 191, 191, 190]], dtype=uint8)"
      ]
     },
     "execution_count": 6,
     "metadata": {},
     "output_type": "execute_result"
    }
   ],
   "source": [
    "df['sex'] = df['sex'].map({'female': 0, 'male': 1})\n",
    "x = np.array(df.image.tolist())\n",
    "y = df.sex.values\n",
    "x"
   ]
  },
  {
   "cell_type": "code",
   "execution_count": 7,
   "metadata": {},
   "outputs": [],
   "source": [
    "from sklearn.preprocessing import StandardScaler\n",
    "from sklearn.model_selection import train_test_split\n",
    "\n",
    "x_train,x_test,y_train,y_test = train_test_split(x,y,test_size = 0.2,shuffle = True,random_state = 42)\n",
    "\n",
    "scaler = StandardScaler()\n",
    "x_train = scaler.fit_transform(x_train)\n",
    "x_test = scaler.transform(x_test)"
   ]
  },
  {
   "cell_type": "code",
   "execution_count": 8,
   "metadata": {},
   "outputs": [
    {
     "name": "stdout",
     "output_type": "stream",
     "text": [
      "start training...\n"
     ]
    },
    {
     "name": "stderr",
     "output_type": "stream",
     "text": [
      "100%|██████████| 1000/1000 [02:43<00:00,  6.12it/s]\n"
     ]
    },
    {
     "data": {
      "image/png": "[encoded data removed]",
      "text/plain": [
       "<Figure size 640x480 with 1 Axes>"
      ]
     },
     "metadata": {},
     "output_type": "display_data"
    },
    {
     "data": {
      "text/plain": [
       "0.6246164336856461"
      ]
     },
     "execution_count": 8,
     "metadata": {},
     "output_type": "execute_result"
    }
   ],
   "source": [
    "from sklearn.metrics import accuracy_score\n",
    "model = Logistic_Regression(0.0001,1000)\n",
    "model.fit(x_train,y_train)\n",
    "\n",
    "model.plot_cost()\n",
    "y_pred = model.predict(x_test)\n",
    "\n",
    "accuracy_score(y_test,y_pred)"
   ]
  }
 ],
 "metadata": {
  "kernelspec": {
   "display_name": "Python 3",
   "language": "python",
   "name": "python3"
  },
  "language_info": {
   "codemirror_mode": {
    "name": "ipython",
    "version": 3
   },
   "file_extension": ".py",
   "mimetype": "text/x-python",
   "name": "python",
   "nbconvert_exporter": "python",
   "pygments_lexer": "ipython3",
   "version": "3.12.4"
  }
 },
 "nbformat": 4,
 "nbformat_minor": 2
}
